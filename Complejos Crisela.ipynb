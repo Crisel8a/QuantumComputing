{
 "cells": [
  {
   "cell_type": "markdown",
   "id": "983f67ad-2ef0-496e-978f-d8c7940d9670",
   "metadata": {},
   "source": [
    "# NÚMEROS COMPLEJOS "
   ]
  },
  {
   "cell_type": "markdown",
   "id": "b92b25ef-a992-4106-beed-95a1c9dcabcf",
   "metadata": {},
   "source": [
    "## De forma Rectangular a forma Polar de un complejo"
   ]
  },
  {
   "cell_type": "code",
   "execution_count": null,
   "id": "42ec9e2b-c12a-4e37-8297-05a09e8e62a1",
   "metadata": {},
   "outputs": [],
   "source": [
    "from math import atan, sqrt\n",
    "print(\"El número complejo es de la forma a+bi\")\n",
    "a = float(input(\"Ingrese a: \"))\n",
    "b = float(input(\"Ingrese b: \"))\n",
    "\n",
    "r = sqrt(a**2 + b**2)\n",
    "\n",
    "theta = atan(a/b)\n",
    "\n",
    "print(\"r= \", r, \" y  theta: \", theta)\n",
    "print(\"La forma polar de el número complejo es: \")\n",
    "print(r, \"*cos(\",theta, \") + i*sen(\",theta, \")\")\n",
    "print(a, b, \"*i = \", r, \"e^(i*\", theta, \")\")"
   ]
  },
  {
   "cell_type": "markdown",
   "id": "fc3cfdbe-a826-4eec-a5b0-74e880076b6f",
   "metadata": {},
   "source": [
    "## De forma Polar a forma Rectangular de un complejo"
   ]
  },
  {
   "cell_type": "code",
   "execution_count": 34,
   "id": "deb0d567-24a8-4772-a434-c29822867319",
   "metadata": {},
   "outputs": [
    {
     "name": "stdout",
     "output_type": "stream",
     "text": [
      "El número complejo es de la forma r cos(theta) + isen(theta).\n"
     ]
    },
    {
     "name": "stdin",
     "output_type": "stream",
     "text": [
      "Ingrese r:  2\n",
      "Ingrese theta en grados (ntp, yo lo convierto a radianes):  60\n"
     ]
    },
    {
     "name": "stdout",
     "output_type": "stream",
     "text": [
      "La forma rectangular del numero complejor es:  (1.0000000000000002+1.7320508075688772j)\n"
     ]
    }
   ],
   "source": [
    "#r*e^(i*(theta))\n",
    "from math import pi, cos, sin, asin\n",
    "from math import cos, sin\n",
    "print(\"El número complejo es de la forma r cos(theta) + isen(theta).\")\n",
    "r = float(input(\"Ingrese r: \"))\n",
    "theta = float(input(\"Ingrese theta en grados (ntp, yo lo convierto a radianes): \"))\n",
    "rad = theta * (pi/180)\n",
    "\n",
    "complejo = r*complex(cos(rad), sin(rad))\n",
    "print(\"La forma rectangular del numero complejor es: \", complejo)"
   ]
  },
  {
   "cell_type": "code",
   "execution_count": null,
   "id": "46b10c1c-80c6-40c2-b609-d69c1ff0e900",
   "metadata": {},
   "outputs": [],
   "source": [
    "#NO OLVIDAR LA FORMA DE Euler\n",
    "#𝑒^(𝑖𝜋)=cos𝜋+sin𝜋⋅𝑖=−1 .\n",
    "\n",
    "#e^(i theta) = cos(theta) +isen(theta)"
   ]
  },
  {
   "cell_type": "markdown",
   "id": "ebf796e7-c925-4947-a04c-334024e78370",
   "metadata": {},
   "source": [
    "## Norma al cuadrado de un complejo"
   ]
  },
  {
   "cell_type": "code",
   "execution_count": null,
   "id": "b72ae6ed-18a7-4480-a074-6470c4e0e2e3",
   "metadata": {},
   "outputs": [],
   "source": [
    "#|𝑎+𝑏𝑖|2=𝑎2+𝑏2 .\n",
    "print(\"El número complejo es de la forma a+bi\")\n",
    "a = float(input(\"Ingrese a: \"))\n",
    "b = float(input(\"Ingrese b: \"))\n",
    "z = complex(a,b)\n",
    "\n",
    "print(\"|𝑎+𝑏𝑖|^2 = \", abs(z)**2)"
   ]
  },
  {
   "cell_type": "markdown",
   "id": "80b25b15-6c7f-4c5a-812a-0d9b8cbf1e48",
   "metadata": {},
   "source": [
    "## Probabilidad con complejos"
   ]
  },
  {
   "cell_type": "code",
   "execution_count": 47,
   "id": "e1715782-d7ed-403b-9c57-d32b97e15f19",
   "metadata": {},
   "outputs": [
    {
     "name": "stdout",
     "output_type": "stream",
     "text": [
      "Tiene un vector columna con entradas a+bi y c+di.\n"
     ]
    },
    {
     "name": "stdin",
     "output_type": "stream",
     "text": [
      "Ingrese a:  0.25\n",
      "Ingrese b  0.25\n",
      "Ingrese c:  0.5\n",
      "Ingrese d  -0.5\n"
     ]
    },
    {
     "name": "stdout",
     "output_type": "stream",
     "text": [
      "Recuerde que la primera entrada del vector corresponde a |0> y la segunda entrada corresponde a |1>.\n",
      "La primera entrada del vector corresponde a |0> con probabilidad =  0.125\n",
      "La primera entrada del vector corresponde a |i> con probabilidad =  0.5\n",
      "La suma de las probabilidades es:  0.625\n",
      "El cual no necesariamente es 1 pues no son estados cuánticos válidos.\n"
     ]
    }
   ],
   "source": [
    "#Suponemos que ya sabemos que tenemos un estado cuántico, calculamos entonces su probabilidad\n",
    "from random import randint\n",
    "from math import sqrt\n",
    "print(\"Tiene un vector columna con entradas a+bi y c+di.\")\n",
    "\n",
    "a , b = float(input('Ingrese a: ')), float(input('Ingrese b '))\n",
    "c , d = float(input('Ingrese c: ')), float(input('Ingrese d '))\n",
    "\n",
    "z1 = complex(a,b)\n",
    "z2 = complex(c,d)\n",
    "\n",
    "v = [ [z1],[z2] ]\n",
    "\n",
    "proba_0 = z1.real**2 + z1.imag**2 \n",
    "proba_1 = z2.real**2 + z2.imag**2 \n",
    "\n",
    "print(\"Recuerde que la primera entrada del vector corresponde a |0> y la segunda entrada corresponde a |1>.\")\n",
    "print(\"La primera entrada del vector corresponde a |0> con probabilidad = \", proba_0)\n",
    "print(\"La primera entrada del vector corresponde a |i> con probabilidad = \", proba_1)\n",
    "print(\"La suma de las probabilidades es: \", proba_0 + proba_1)\n",
    "print( \"El cual no necesariamente es 1 pues no son estados cuánticos válidos.\")\n"
   ]
  },
  {
   "cell_type": "markdown",
   "id": "57191f25-465b-4c76-9300-65552eea6e36",
   "metadata": {},
   "source": [
    "## Crear un sistema cuántico complejos y sacar sus probabilidades"
   ]
  },
  {
   "cell_type": "code",
   "execution_count": null,
   "id": "470a0756-6d61-4611-9b79-14809d581ffc",
   "metadata": {},
   "outputs": [],
   "source": [
    "from random import randrange, randint\n",
    "from math import sqrt\n",
    "def random_complex_quantum_state(epsilon=0):\n",
    "    \n",
    "    a = randint(-100, 100)/100\n",
    "    b = randint(-100, 100)/100\n",
    "    c = randint(-100, 100)/100\n",
    "    d = randint(-100, 100)/100\n",
    "    \n",
    "    \n",
    "    #a , b = float(input('Ingrese a: ')), float(input('Ingrese b '))\n",
    "    #c , d = float(input('Ingrese c: ')), float(input('Ingrese d '))\n",
    "    \n",
    "    z1 = complex(a,b)\n",
    "    z2 = complex(c,b)\n",
    "    \n",
    "    quantum_state = [ [z1], [z2] ]\n",
    "    nz1 = abs(z1) #norma de z1\n",
    "    nz2 = abs(z2) #norma de z2\n",
    "    norma = sqrt(z1.real**2 + z1.imag**2 + z2.real**2 + z2.imag**2)\n",
    "    print(\"La norma original es: \", norma)\n",
    "    \n",
    "    if abs(1-norma) <= epsilon:\n",
    "        print(\"Ingresaste un estado cuántico válido.\")\n",
    "        quantum_state = [ [z1],[z2] ]\n",
    "        proba_0 = abs(z1)**2\n",
    "        proba_1 = abs(z2)**2\n",
    "\n",
    "    else:\n",
    "        print(\"Esto no representa un estado cuántico válido, pero ahorita te lo hago...\")\n",
    "        norma_n = sqrt((nz1/norma)**2 + (nz2/norma)**2) #norma del nuevo vector\n",
    "        nz1n = complex(z1.real/norma,z1.imag/norma)\n",
    "        nz2n = complex(z2.real/norma,z2.imag/norma)\n",
    "        print(\"La nueva norma es: \", norma_n)\n",
    "        quantum_state = [ [nz1n], [nz2n] ] #vector normalizado \n",
    "        \n",
    "        proba_0 = abs(nz1n)**2\n",
    "        proba_1 = abs(nz2n)**2\n",
    "        \n",
    "    print(\"Recuerde que la primera entrada del vector corresponde a |0> y la segunda entrada corresponde a |1>.\")\n",
    "    print(\"La primera entrada del vector corresponde a |0> con probabilidad = \", proba_0)\n",
    "    print(\"La primera entrada del vector corresponde a |1> con probabilidad = \", proba_1)\n",
    "    print(\"La suma de las probabilidades es: \", proba_0 + proba_1)\n",
    "    \n",
    "    return quantum_state\n"
   ]
  },
  {
   "cell_type": "markdown",
   "id": "3661f1d9-02b6-4408-89c4-d6dccc207d01",
   "metadata": {},
   "source": [
    "## Imprimir Matriz de Nuevo"
   ]
  },
  {
   "cell_type": "code",
   "execution_count": 112,
   "id": "fea22d1e-aafd-422b-b6e4-2a425a3ab3bb",
   "metadata": {},
   "outputs": [],
   "source": [
    "def printMatrix(m, literal='M'):\n",
    "    from IPython.display import display, Math\n",
    "    \n",
    "    \"\"\"\n",
    "    Recibe una matriz m y una literal para que se muestre la asignación\n",
    "    Ej:\n",
    "        M = [1 0 3]\n",
    "    \"\"\"\n",
    "    rows = \"\"\n",
    "    \n",
    "    if type(m[0]) == list:\n",
    "        for row in [[str(e) for e in r] for r in m]:\n",
    "            rows += ' &'.join(row)\n",
    "            rows += r'\\\\'\n",
    "    else: # Si es un vector fila\n",
    "        for row in [str(e) for e in m]:\n",
    "            rows += f'{row} &'\n",
    "        rows = rows[:-1]\n",
    "        \n",
    "    st = f'{literal} = \\mymatrix%{\"r\"*len(m)}$%{rows}$'.replace('%', '{').replace('$', '}')\n",
    "    display(Math(st))"
   ]
  },
  {
   "cell_type": "markdown",
   "id": "d12d2ae5-9823-4bd3-a572-a4eac6661101",
   "metadata": {},
   "source": [
    "## Tranpuesta de una Matriz"
   ]
  },
  {
   "cell_type": "code",
   "execution_count": 113,
   "id": "77d980ea-6074-4e96-a1da-b9e1bb2b0ea3",
   "metadata": {},
   "outputs": [],
   "source": [
    "def TransMatrix(M=None):\n",
    "    if not M:\n",
    "        f = int(input(\"Ingresa el # filas: \"))\n",
    "        c = int(input(\"Ingresa el # de columnas: \"))\n",
    "        print(\"Captura de elementos: \")\n",
    "        M = []\n",
    "\n",
    "        #llenando de ceros M lrptm\n",
    "        for i in range(f):\n",
    "            M.append([])\n",
    "            for j in range(c):\n",
    "                M[i].append(0)\n",
    "\n",
    "        for i in range(f):\n",
    "            for j in range(c):\n",
    "                M[i][j] = int(input(f'Ingresa el elemento {i}, {j}: '))\n",
    "                #M.append(M[i][j])\n",
    "\n",
    "        print('La matriz es: ', M)\n",
    "    else:\n",
    "        f = len(M)\n",
    "        c = len(M[0])\n",
    "        \n",
    "    T = []\n",
    "        \n",
    "    #llenando de ceros T lrptm\n",
    "    for i in range(c):\n",
    "        T.append([])\n",
    "        for j in range(f):\n",
    "            T[i].append(0)\n",
    "\n",
    "    for i in range(c):\n",
    "        for j in range(f):\n",
    "            T[i][j] = M[j][i]\n",
    "            #T.append(T[i][j])\n",
    "\n",
    "    print('La transpuesta es: ', T)\n",
    "\n",
    "    return M, T"
   ]
  },
  {
   "cell_type": "code",
   "execution_count": null,
   "id": "1e6189d0-15a1-48bc-ab25-49600afea517",
   "metadata": {},
   "outputs": [],
   "source": [
    "2**(1/2) / 2"
   ]
  },
  {
   "cell_type": "code",
   "execution_count": null,
   "id": "f282126a-b61f-4808-96b0-6f408de9ec6f",
   "metadata": {},
   "outputs": [],
   "source": [
    "\n",
    "a = randint(-100, 100)/100\n",
    "b = randint(-100, 100)/100\n",
    "c = randint(-100, 100)/100\n",
    "d = randint(-100, 100)/100\n"
   ]
  },
  {
   "cell_type": "markdown",
   "id": "403a96a4-4ec2-4e49-8c16-12d128a0f0d7",
   "metadata": {},
   "source": [
    "## Sacar la forma bra de un ket"
   ]
  },
  {
   "cell_type": "code",
   "execution_count": null,
   "id": "d4fa7169-68dc-4ef7-b13c-e1779c864dd8",
   "metadata": {},
   "outputs": [],
   "source": [
    "def bra(v=None):\n",
    "    \n",
    "    if not v:\n",
    "        v = random_complex_quantum_state()\n",
    "    \n",
    "    v[0][0] = v[0][0].conjugate()\n",
    "    v[1][0] = v[1][0].conjugate()\n",
    "    \n",
    "    return TransMatrix(v)"
   ]
  },
  {
   "cell_type": "markdown",
   "id": "106d15d0-722a-4dac-a060-ec17e0095da0",
   "metadata": {},
   "source": [
    "## Producto Interno de dos estados cuánticos"
   ]
  },
  {
   "cell_type": "code",
   "execution_count": 114,
   "id": "d9ad2dd7-7ee0-4306-8573-603b490d9523",
   "metadata": {},
   "outputs": [],
   "source": [
    "def InnerProd():\n",
    "    \n",
    "    v1 = random_complex_quantum_state()\n",
    "    v2 = random_complex_quantum_state()\n",
    "    \n",
    "    v1bra = bra(v1)[1]\n",
    "    \n",
    "    m = 1\n",
    "    innerprod = 0\n",
    "    \n",
    "    for i in range(len(v1bra[0])): #columnas de v1\n",
    "        m = v1bra[0][i]*v2[i][0]\n",
    "        innerprod+= m\n",
    "    return v1, v2, v1bra, innerprod"
   ]
  },
  {
   "cell_type": "code",
   "execution_count": null,
   "id": "698e8005-9ea1-47f5-9809-85381e16c331",
   "metadata": {},
   "outputs": [],
   "source": [
    "#Por si quieres tu meter estados cuánticos manual\n",
    "    a , b = float(input('Ingrese a: ')), float(input('Ingrese b '))\n",
    "    c , d = float(input('Ingrese c: ')), float(input('Ingrese d '))\n",
    "    \n",
    "    z1 = complex(a,b)\n",
    "    z2 = complex(c,d)\n",
    "    \n",
    "    v1 = [ [z1],[z2] ]\n",
    "    \n",
    "    a2 , b2 = float(input('Ingrese e: ')), float(input('Ingrese f '))\n",
    "    c2 , d2 = float(input('Ingrese g: ')), float(input('Ingrese h '))\n",
    "    \n",
    "    z3 = complex(a2,b2)\n",
    "    z4 = complex(c2,d2)\n",
    "    \n",
    "    v2 = [ [z3],[z4] ]\n",
    "    "
   ]
  },
  {
   "cell_type": "markdown",
   "id": "2d9ddf11-3b39-41f9-9b3c-f6cd78402861",
   "metadata": {},
   "source": [
    "## $A^† $ (Transpuesta Conjugada)"
   ]
  },
  {
   "cell_type": "code",
   "execution_count": 115,
   "id": "e0f2b99c-c7bd-49dd-be4d-d475fcaafeff",
   "metadata": {},
   "outputs": [],
   "source": [
    "def Acrucecita():\n",
    "    def getMatrix():\n",
    "        f = int(input(\"Ingresa el # filas: \"))\n",
    "        c = int(input(\"Ingresa el # de columnas: \"))\n",
    "        print(\"Captura de elementos: \")\n",
    "        M = []\n",
    "\n",
    "        #llenando de ceros M lrptm\n",
    "        for i in range(f):\n",
    "            M.append([])\n",
    "            for j in range(c):\n",
    "                M[i].append(0)\n",
    "\n",
    "        for i in range(f):\n",
    "            for j in range(c):\n",
    "                a = int(input(f\"Dame la parte real del complejo en la entrada {i}, {j}: \"))\n",
    "                b = int(input(f\"Dame la parte imaginaria del complejo en la entrada {i}, {j}: \"))\n",
    "                zij = complex(a,b)\n",
    "                M[i][j] = zij\n",
    "\n",
    "        print('La matriz es:')\n",
    "        #printMatrix(M)\n",
    "        \n",
    "        M_T = TransMatrix(M)[1]\n",
    "\n",
    "        return M, M_T, c, f\n",
    "    \n",
    "    M, M_T, c, f = getMatrix()\n",
    "    \n",
    "    for i in range(c):\n",
    "        for j in range(f):\n",
    "            M_T[i][j] = M_T[i][j].conjugate()\n",
    "    printMatrix(M)        \n",
    "    printMatrix(M_T, \"M^t\") "
   ]
  },
  {
   "cell_type": "code",
   "execution_count": 116,
   "id": "f63863c5-a194-46db-9964-38d76c3643d1",
   "metadata": {},
   "outputs": [
    {
     "name": "stdin",
     "output_type": "stream",
     "text": [
      "Ingresa el # filas:  2\n",
      "Ingresa el # de columnas:  2\n"
     ]
    },
    {
     "name": "stdout",
     "output_type": "stream",
     "text": [
      "Captura de elementos: \n"
     ]
    },
    {
     "name": "stdin",
     "output_type": "stream",
     "text": [
      "Dame la parte real del complejo en la entrada 0, 0:  3\n",
      "Dame la parte imaginaria del complejo en la entrada 0, 0:  7\n",
      "Dame la parte real del complejo en la entrada 0, 1:  0\n",
      "Dame la parte imaginaria del complejo en la entrada 0, 1:  0\n",
      "Dame la parte real del complejo en la entrada 1, 0:  0\n",
      "Dame la parte imaginaria del complejo en la entrada 1, 0:  2\n",
      "Dame la parte real del complejo en la entrada 1, 1:  4\n",
      "Dame la parte imaginaria del complejo en la entrada 1, 1:  -1\n"
     ]
    },
    {
     "name": "stdout",
     "output_type": "stream",
     "text": [
      "La matriz es:\n",
      "La transpuesta es:  [[(3+7j), 2j], [0j, (4-1j)]]\n"
     ]
    },
    {
     "data": {
      "text/latex": [
       "$\\displaystyle M = \\mymatrix{rr}{(3+7j) &0j\\\\2j &(4-1j)\\\\}$"
      ],
      "text/plain": [
       "<IPython.core.display.Math object>"
      ]
     },
     "metadata": {},
     "output_type": "display_data"
    },
    {
     "data": {
      "text/latex": [
       "$\\displaystyle M^t = \\mymatrix{rr}{(3-7j) &-2j\\\\-0j &(4+1j)\\\\}$"
      ],
      "text/plain": [
       "<IPython.core.display.Math object>"
      ]
     },
     "metadata": {},
     "output_type": "display_data"
    }
   ],
   "source": [
    "Acrucecita()"
   ]
  },
  {
   "cell_type": "markdown",
   "id": "11ae47bc-b8d9-4787-b00a-0ea1c02b5940",
   "metadata": {},
   "source": [
    "## Verificar Matrix Unitaria"
   ]
  },
  {
   "cell_type": "code",
   "execution_count": 17,
   "id": "32151f3f-f657-414f-9263-df7f32a5f0b5",
   "metadata": {},
   "outputs": [],
   "source": [
    "def MatrixUnitaria():\n",
    "    \n",
    "    a , b = float(input('Ingrese a: ')), float(input('Ingrese b '))\n",
    "    c , d = float(input('Ingrese c: ')), float(input('Ingrese d '))\n",
    "    \n",
    "    z1 = complex(a,b)\n",
    "    z2 = complex(c,d)\n",
    "    \n",
    "    v1 = [ [z1],[z2] ]\n",
    "    \n",
    "    a2 , b2 = float(input('Ingrese e: ')), float(input('Ingrese f '))\n",
    "    c2 , d2 = float(input('Ingrese g: ')), float(input('Ingrese h '))\n",
    "    \n",
    "    z3 = complex(a2,b2)\n",
    "    z4 = complex(c2,d2)\n",
    "    \n",
    "    v2 = [ [z3],[z4] ]\n",
    "    \n",
    "    v2cj = [ [z3.conjugate()],[z4.conjugate()] ]\n",
    "    \n",
    "    m = 1\n",
    "    innerprod = 0\n",
    "    \n",
    "    for i in range(2): #columnas de v1\n",
    "        m = v1[i][0]*v2cj[i][0]\n",
    "        innerprod+= m\n",
    "    return v1, v2cj, innerprod"
   ]
  },
  {
   "cell_type": "code",
   "execution_count": 33,
   "id": "3eb8230d-6549-414a-adad-94dcb273ed32",
   "metadata": {},
   "outputs": [
    {
     "name": "stdin",
     "output_type": "stream",
     "text": [
      "Ingrese a:  0.5\n",
      "Ingrese b  0\n",
      "Ingrese c:  0.5\n",
      "Ingrese d  -0.5\n",
      "Ingrese e:  0.5\n",
      "Ingrese f  -0.5\n",
      "Ingrese g:  0.5\n",
      "Ingrese h  0\n"
     ]
    },
    {
     "data": {
      "text/plain": [
       "([[(0.5+0j)], [(0.5-0.5j)]], [[(0.5+0.5j)], [(0.5-0j)]], (0.5+0j))"
      ]
     },
     "execution_count": 33,
     "metadata": {},
     "output_type": "execute_result"
    }
   ],
   "source": [
    "MatrixUnitaria()"
   ]
  }
 ],
 "metadata": {
  "kernelspec": {
   "display_name": "Python 3 (ipykernel)",
   "language": "python",
   "name": "python3"
  },
  "language_info": {
   "codemirror_mode": {
    "name": "ipython",
    "version": 3
   },
   "file_extension": ".py",
   "mimetype": "text/x-python",
   "name": "python",
   "nbconvert_exporter": "python",
   "pygments_lexer": "ipython3",
   "version": "3.10.2"
  }
 },
 "nbformat": 4,
 "nbformat_minor": 5
}
